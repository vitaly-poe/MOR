{
 "cells": [
  {
   "cell_type": "code",
   "execution_count": 1,
   "metadata": {},
   "outputs": [],
   "source": [
    "import gurobipy as grb\n",
    "import numpy as np\n",
    "import math\n",
    "import sys"
   ]
  },
  {
   "cell_type": "code",
   "execution_count": 2,
   "metadata": {},
   "outputs": [],
   "source": [
    "def distance(x, y):\n",
    "    return np.sqrt(np.sum((x-y)**2))"
   ]
  },
  {
   "cell_type": "markdown",
   "metadata": {},
   "source": [
    "### Problem parameters"
   ]
  },
  {
   "cell_type": "code",
   "execution_count": 3,
   "metadata": {},
   "outputs": [],
   "source": [
    "p = 5\n",
    "M = 100 # clients\n",
    "N = 100 # facilities\n",
    "\n",
    "# x_j      facility j is opened\n",
    "# y_{i_j} customer i supplied by facility j\n",
    "# d_{i_j} supply cost for customer i with facility j "
   ]
  },
  {
   "cell_type": "code",
   "execution_count": 4,
   "metadata": {},
   "outputs": [],
   "source": [
    "facilities = np.random.uniform(low=0, high=1, size=[N, 2])\n",
    "clients = np.random.uniform(low=0, high=1, size=[M, 2])"
   ]
  },
  {
   "cell_type": "markdown",
   "metadata": {},
   "source": [
    "## Using gurobi"
   ]
  },
  {
   "cell_type": "code",
   "execution_count": 5,
   "metadata": {},
   "outputs": [],
   "source": [
    "import timeit\n",
    "start_time = timeit.default_timer()"
   ]
  },
  {
   "cell_type": "code",
   "execution_count": 6,
   "metadata": {},
   "outputs": [
    {
     "name": "stdout",
     "output_type": "stream",
     "text": [
      "Academic license - for non-commercial use only\n"
     ]
    }
   ],
   "source": [
    "m = grb.Model()\n",
    "m.setParam('OutputFlag', False)"
   ]
  },
  {
   "cell_type": "markdown",
   "metadata": {},
   "source": [
    "### Add variables"
   ]
  },
  {
   "cell_type": "code",
   "execution_count": 7,
   "metadata": {},
   "outputs": [],
   "source": [
    "x = {}\n",
    "y = {}\n",
    "d = {}\n",
    "\n",
    "distances = [[distance(clients[i], facilities[j]) for j in range(N)] for i in range(M)]\n",
    "\n",
    "for j in range(N):\n",
    "    x[j] = m.addVar(lb=0, ub=1, vtype=grb.GRB.BINARY, name=\"x_%d\" % j)\n",
    "\n",
    "for i in range(M):\n",
    "    for j in range(N):\n",
    "        y[(i, j)] = m.addVar(lb=0, ub=1, vtype=grb.GRB.BINARY, name=\"y_%d_%d\" % (i, j))\n",
    "        \n",
    "        d[(i, j)] = distances[i][j]"
   ]
  },
  {
   "cell_type": "markdown",
   "metadata": {},
   "source": [
    "### Add constrains"
   ]
  },
  {
   "cell_type": "code",
   "execution_count": 8,
   "metadata": {
    "scrolled": true
   },
   "outputs": [],
   "source": [
    "%%capture\n",
    "for i in range(M):\n",
    "    for j in range(N):\n",
    "        m.addConstr(y[(i, j)] <= x[j])\n",
    "\n",
    "for i in range(M):\n",
    "    m.addConstr(grb.quicksum(y[(i, j)] for j in range(N)) == 1)\n",
    "\n",
    "m.addConstr(grb.quicksum(x[j] for j in range(N)) == p)"
   ]
  },
  {
   "cell_type": "markdown",
   "metadata": {},
   "source": [
    "### Objective function"
   ]
  },
  {
   "cell_type": "code",
   "execution_count": 9,
   "metadata": {},
   "outputs": [],
   "source": [
    "m.setObjective(grb.quicksum(grb.quicksum(\n",
    "    d[(i, j)]*y[(i, j)] for i in range(M)) for j in range(N)), grb.GRB.MINIMIZE)"
   ]
  },
  {
   "cell_type": "markdown",
   "metadata": {},
   "source": [
    "### Solve"
   ]
  },
  {
   "cell_type": "code",
   "execution_count": 10,
   "metadata": {},
   "outputs": [],
   "source": [
    "m.optimize()\n",
    "gurobi_obj = m.objVal"
   ]
  },
  {
   "cell_type": "code",
   "execution_count": 152,
   "metadata": {},
   "outputs": [
    {
     "data": {
      "text/plain": [
       "16.364042239381824"
      ]
     },
     "execution_count": 152,
     "metadata": {},
     "output_type": "execute_result"
    }
   ],
   "source": [
    "gurobi_obj"
   ]
  },
  {
   "cell_type": "code",
   "execution_count": 11,
   "metadata": {},
   "outputs": [],
   "source": [
    "x_gurobi = [0 for j in range(N)]\n",
    "y_gurobi = [[0 for j in range(N)] for i in range(M)]\n",
    "for j in range(N):\n",
    "    x_gurobi[j] = int(m.getVarByName(\"x_%d\" % (j)).X)\n",
    "    \n",
    "for i in range(M):\n",
    "    for j in range(N):\n",
    "        y_gurobi[i][j] = int(m.getVarByName(\"y_%d_%d\" % (i,j)).X)"
   ]
  },
  {
   "cell_type": "markdown",
   "metadata": {},
   "source": [
    "### Time elapsed"
   ]
  },
  {
   "cell_type": "code",
   "execution_count": 12,
   "metadata": {},
   "outputs": [
    {
     "name": "stdout",
     "output_type": "stream",
     "text": [
      "15.049159892000262\n"
     ]
    }
   ],
   "source": [
    "elapsed_by_gurobi = timeit.default_timer() - start_time\n",
    "print(elapsed_by_gurobi)"
   ]
  },
  {
   "cell_type": "markdown",
   "metadata": {},
   "source": [
    "## Simulated annealing"
   ]
  },
  {
   "cell_type": "code",
   "execution_count": 994,
   "metadata": {},
   "outputs": [],
   "source": [
    "import matplotlib.pyplot as plt"
   ]
  },
  {
   "cell_type": "code",
   "execution_count": 87,
   "metadata": {},
   "outputs": [],
   "source": [
    "f_distances = [[distance(facilities[i], facilities[j]) for j in range(N)] for i in range(M)]"
   ]
  },
  {
   "cell_type": "code",
   "execution_count": 106,
   "metadata": {},
   "outputs": [],
   "source": [
    "def generate_x():\n",
    "    x = [0 for j in range(N)]\n",
    "    for i in range(p):\n",
    "        x[i] = 1\n",
    "    _= np.random.shuffle(x)\n",
    "    return x"
   ]
  },
  {
   "cell_type": "code",
   "execution_count": 155,
   "metadata": {},
   "outputs": [],
   "source": [
    "def list_opened_facilites(x):\n",
    "    output = []\n",
    "    for j in range(N):\n",
    "        if x[j] == 1:\n",
    "            output.append(j)\n",
    "    return output"
   ]
  },
  {
   "cell_type": "code",
   "execution_count": 154,
   "metadata": {
    "scrolled": true
   },
   "outputs": [],
   "source": [
    "def available_disnaces(x,d):\n",
    "    output = [[np.inf for j in range(N)] for i in range(M)]\n",
    "    for i in range(M):\n",
    "        for ind in list_opened_facilites(x):\n",
    "            output[i][ind] = d[i][ind]\n",
    "    return(output)"
   ]
  },
  {
   "cell_type": "code",
   "execution_count": 75,
   "metadata": {},
   "outputs": [],
   "source": [
    "def define_y(d):\n",
    "    y = [[0 for j in range(N)] for i in range(M)]\n",
    "    for i in range(M):\n",
    "        y[i][np.argmin(d[i])] = 1\n",
    "    return y"
   ]
  },
  {
   "cell_type": "code",
   "execution_count": 882,
   "metadata": {},
   "outputs": [],
   "source": [
    "def goal_func(x):\n",
    "    d = available_disnaces(x,distances)\n",
    "    y = define_y(d)\n",
    "    return np.sum([[distances[i][j]*y[i][j] for i in range(M)] for j in range(N)])"
   ]
  },
  {
   "cell_type": "code",
   "execution_count": 897,
   "metadata": {},
   "outputs": [],
   "source": [
    "def mutate(x):\n",
    "#     x = x_in[:]\n",
    "    mutate_batch = round(0.2*p)\n",
    "    opened_f = list_opened_facilites(x)\n",
    "    \n",
    "    facilities_to_mutate = []\n",
    "    for k in range(mutate_batch):\n",
    "        facilities_to_mutate.append(opened_f.pop(np.random.randint(0,len(opened_f))))\n",
    "    \n",
    "    candidates_list = list(range(M))\n",
    "    for j in facilities_to_mutate:\n",
    "#         candidates_list = np.asarray([[ndx,dist] for ndx,dist in enumerate(f_distances[j])])\n",
    "#         candidates_list = candidates_list[candidates_list[:,1].argsort()]\n",
    "#         candidates_list = [[int(a[0]),a[1]] for a in candidates_list]\n",
    "        mutated = False\n",
    "#         candidate_mutate_to = 0\n",
    "        while not mutated:\n",
    "            candidate_mutate_to = np.random.choice(candidates_list)\n",
    "#             if not(candidates_list[candidate_mutate_to][0] in facilities_to_mutate):\n",
    "            if not(candidate_mutate_to in facilities_to_mutate):\n",
    "                mutated = True\n",
    "        x[j] = 0\n",
    "        x[candidate_mutate_to] = 1\n",
    "        del candidates_list[candidate_mutate_to]\n",
    "    return x"
   ]
  },
  {
   "cell_type": "code",
   "execution_count": 989,
   "metadata": {},
   "outputs": [],
   "source": [
    "def simulated_annealing(T,Tmin,r):\n",
    "    cur_x = generate_x()\n",
    "    best_x = cur_x\n",
    "    cur_gf = goal_func(cur_x)\n",
    "    best_gf = cur_gf\n",
    "    \n",
    "    data = [best_gf]\n",
    "    while T > Tmin:\n",
    "        x = mutate(cur_x)\n",
    "        gf = goal_func(x) \n",
    "        if (gf-cur_gf)<0:\n",
    "            cur_gf = gf\n",
    "            cur_x = x\n",
    "            data.append(cur_gf)\n",
    "        elif (np.random.rand() < np.exp(-(gf-cur_gf)/T)):\n",
    "            cur_gf = gf\n",
    "            cur_x = x\n",
    "            data.append(cur_gf)\n",
    "        if (best_gf > gf):\n",
    "            best_x = x\n",
    "            best_gf = gf\n",
    "        T *= r\n",
    "    return best_gf, data"
   ]
  },
  {
   "cell_type": "code",
   "execution_count": 1002,
   "metadata": {
    "scrolled": true
   },
   "outputs": [
    {
     "name": "stdout",
     "output_type": "stream",
     "text": [
      "Optimal solution:  16.364042239381824 \n",
      "Simulated annealing:  18.832105364724484\n",
      "\n",
      "Elapsed time by gurobi: 15.049159892000262 \n",
      "Elapsed time by simulated annealing: 12.48700370000006\n"
     ]
    },
    {
     "data": {
      "image/png": "[encoded data removed]",
      "text/plain": [
       "<Figure size 432x288 with 1 Axes>"
      ]
     },
     "metadata": {
      "needs_background": "light"
     },
     "output_type": "display_data"
    }
   ],
   "source": [
    "start_time = timeit.default_timer()\n",
    "\n",
    "gf, data = simulated_annealing(100,1,0.99)\n",
    "print('Optimal solution: ', gurobi_obj, '\\nSimulated annealing: ', gf)\n",
    "\n",
    "print('\\nElapsed time by gurobi:', elapsed_by_gurobi, '\\nElapsed time by simulated annealing:',\n",
    "      timeit.default_timer() - start_time)\n",
    "\n",
    "_=plt.plot(data)\n",
    "_=plt.show()"
   ]
  }
 ],
 "metadata": {
  "kernelspec": {
   "display_name": "Python 3",
   "language": "python",
   "name": "python3"
  },
  "language_info": {
   "codemirror_mode": {
    "name": "ipython",
    "version": 3
   },
   "file_extension": ".py",
   "mimetype": "text/x-python",
   "name": "python",
   "nbconvert_exporter": "python",
   "pygments_lexer": "ipython3",
   "version": "3.7.0"
  }
 },
 "nbformat": 4,
 "nbformat_minor": 2
}
